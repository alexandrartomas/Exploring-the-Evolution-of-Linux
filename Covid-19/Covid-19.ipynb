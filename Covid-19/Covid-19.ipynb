{
 "cells": [
  {
   "cell_type": "markdown",
   "metadata": {},
   "source": [
    "# COVID-19 dataset\n",
    "\n",
    "This notebook aims to be a guide to analyze the COVID-19 dataset created by Johns Hopkins University.\n",
    "\n",
    "In the notebook, you'll have several questions that you should answer using the dataset and the tools taught on the learning unit. Most questions are associated to one of the following topics:\n",
    "- ***Polygraph*** - you have to confirm if a specific news is fake (or not)! Fake news buuusters\n",
    "- ***Shooow time*** - sometimes it’s hard to make conclusions from looking at data but visualizations (charts) make it muuuuch easier ;-)\n",
    "- ***Speedy quizzz*** - a question will prompted out in Zoom and your team will have 5 minutes to answer it... Run Forest, ruuuun!!\n",
    "- ***Fortune telling*** - data analysis is really cool but what about predict the future? Isn’it niceeeer? :-D\n",
    "\n",
    "To do it, we start with colabs notebook setup so we can use Google Colabs with 0-problems.\n",
    "\n",
    "After the setup, the notebook is splitted in the following units:\n",
    "- \n",
    "\n",
    "Next to it, some exploratory data analysis are perfomed to understand the dataset and some interesting visualizations related to the virus.\n",
    "\n",
    "After it, we are ready to start defining and evaluating our models so we can generate our predictions.\n",
    "\n"
   ]
  },
  {
   "cell_type": "code",
   "execution_count": null,
   "metadata": {
    "colab_type": "text",
    "id": "zqvicwX39JmB"
   },
   "outputs": [],
   "source": [
    "Upload the 'covid19.csv' and 'hackathome.py' you have in the same folder where we sent you this notebook. To do it click on \"Upload\" button you can find in the left pane at Google Colabs."
   ]
  },
  {
   "cell_type": "code",
   "execution_count": 1,
   "metadata": {
    "colab": {},
    "colab_type": "code",
    "id": "0-VKprenAdCi"
   },
   "outputs": [],
   "source": [
    "import warnings\n",
    "warnings.filterwarnings('ignore')"
   ]
  },
  {
   "cell_type": "code",
   "execution_count": null,
   "metadata": {
    "colab_type": "text",
    "id": "wNcANACMKV1J"
   },
   "outputs": [],
   "source": []
  },
  {
   "cell_type": "markdown",
   "metadata": {},
   "source": [
    "## Unit 0 - Load dataset"
   ]
  },
  {
   "cell_type": "markdown",
   "metadata": {
    "colab_type": "text",
    "id": "CRMyQxWevi9o"
   },
   "source": [
    "#### **Import libraries**\n",
    "\n",
    "- 'pandas' to handle data\n",
    "- 'pyplot' to plot charts"
   ]
  },
  {
   "cell_type": "code",
   "execution_count": 3,
   "metadata": {
    "colab": {},
    "colab_type": "code",
    "id": "3_WOvTdBms0g"
   },
   "outputs": [],
   "source": [
    "# Code here:\n",
    "import pandas as pd\n",
    "from matplotlib import pyplot as plt\n",
    "%matplotlib inline"
   ]
  },
  {
   "cell_type": "markdown",
   "metadata": {
    "colab_type": "text",
    "id": "cvoCA2t_ms0e"
   },
   "source": [
    "#### **Load dataset to a dataframe**\n",
    "\n",
    "You already have the dataset with the name ***'dataset.csv'*** ready in the folder where this file is ;-)\n",
    "\n",
    "Load the csv into a Pandas DataFrame"
   ]
  },
  {
   "cell_type": "code",
   "execution_count": null,
   "metadata": {
    "colab": {},
    "colab_type": "code",
    "id": "A9KvG4NtuDRm"
   },
   "outputs": [],
   "source": [
    "# Code here:\n",
    "df = pd.read_csv(\"./covid19.csv\")"
   ]
  },
  {
   "cell_type": "markdown",
   "metadata": {},
   "source": [
    "## Unit 1. First overview\n",
    "\n",
    "In this chapter we do the first overview of the dataset and should make it (more) usable for the next steps."
   ]
  },
  {
   "cell_type": "markdown",
   "metadata": {
    "colab_type": "text",
    "id": "9INgDoo5cZgF"
   },
   "source": [
    "#### **Check the head, tail and shape of the dataset**"
   ]
  },
  {
   "cell_type": "code",
   "execution_count": 5,
   "metadata": {
    "colab": {
     "base_uri": "https://localhost:8080/",
     "height": 204
    },
    "colab_type": "code",
    "executionInfo": {
     "elapsed": 5913,
     "status": "ok",
     "timestamp": 1586872976343,
     "user": {
      "displayName": "Nuno Reis",
      "photoUrl": "",
      "userId": "07361859627404914753"
     },
     "user_tz": -60
    },
    "id": "2psQgIL_FaJK",
    "outputId": "3d3dfc4d-53fc-4d4d-e0ef-6bbb22dab874"
   },
   "outputs": [
    {
     "data": {
      "text/html": [
       "<div>\n",
       "<style scoped>\n",
       "    .dataframe tbody tr th:only-of-type {\n",
       "        vertical-align: middle;\n",
       "    }\n",
       "\n",
       "    .dataframe tbody tr th {\n",
       "        vertical-align: top;\n",
       "    }\n",
       "\n",
       "    .dataframe thead th {\n",
       "        text-align: right;\n",
       "    }\n",
       "</style>\n",
       "<table border=\"1\" class=\"dataframe\">\n",
       "  <thead>\n",
       "    <tr style=\"text-align: right;\">\n",
       "      <th></th>\n",
       "      <th>Country/Region</th>\n",
       "      <th>Date (yyyy/mm/dd)</th>\n",
       "      <th>Confirmed cases</th>\n",
       "      <th>Death cases</th>\n",
       "      <th>Recovered cases</th>\n",
       "    </tr>\n",
       "  </thead>\n",
       "  <tbody>\n",
       "    <tr>\n",
       "      <td>0</td>\n",
       "      <td>Afghanistan</td>\n",
       "      <td>2020-01-22</td>\n",
       "      <td>0</td>\n",
       "      <td>0</td>\n",
       "      <td>0</td>\n",
       "    </tr>\n",
       "    <tr>\n",
       "      <td>1</td>\n",
       "      <td>Afghanistan</td>\n",
       "      <td>2020-01-23</td>\n",
       "      <td>0</td>\n",
       "      <td>0</td>\n",
       "      <td>0</td>\n",
       "    </tr>\n",
       "    <tr>\n",
       "      <td>2</td>\n",
       "      <td>Afghanistan</td>\n",
       "      <td>2020-01-24</td>\n",
       "      <td>0</td>\n",
       "      <td>0</td>\n",
       "      <td>0</td>\n",
       "    </tr>\n",
       "    <tr>\n",
       "      <td>3</td>\n",
       "      <td>Afghanistan</td>\n",
       "      <td>2020-01-25</td>\n",
       "      <td>0</td>\n",
       "      <td>0</td>\n",
       "      <td>0</td>\n",
       "    </tr>\n",
       "    <tr>\n",
       "      <td>4</td>\n",
       "      <td>Afghanistan</td>\n",
       "      <td>2020-01-26</td>\n",
       "      <td>0</td>\n",
       "      <td>0</td>\n",
       "      <td>0</td>\n",
       "    </tr>\n",
       "  </tbody>\n",
       "</table>\n",
       "</div>"
      ],
      "text/plain": [
       "  Country/Region Date (yyyy/mm/dd)  Confirmed cases  Death cases  \\\n",
       "0    Afghanistan        2020-01-22                0            0   \n",
       "1    Afghanistan        2020-01-23                0            0   \n",
       "2    Afghanistan        2020-01-24                0            0   \n",
       "3    Afghanistan        2020-01-25                0            0   \n",
       "4    Afghanistan        2020-01-26                0            0   \n",
       "\n",
       "   Recovered cases  \n",
       "0                0  \n",
       "1                0  \n",
       "2                0  \n",
       "3                0  \n",
       "4                0  "
      ]
     },
     "execution_count": 5,
     "metadata": {},
     "output_type": "execute_result"
    }
   ],
   "source": [
    "# Code here:\n",
    "df.head(5)"
   ]
  },
  {
   "cell_type": "markdown",
   "metadata": {
    "colab_type": "text",
    "id": "p0iKoYp6GgqH"
   },
   "source": [
    "#### **Q1. What are the columns of the dataset?**"
   ]
  },
  {
   "cell_type": "code",
   "execution_count": 6,
   "metadata": {
    "colab": {
     "base_uri": "https://localhost:8080/",
     "height": 204
    },
    "colab_type": "code",
    "executionInfo": {
     "elapsed": 626,
     "status": "ok",
     "timestamp": 1586872982585,
     "user": {
      "displayName": "Nuno Reis",
      "photoUrl": "",
      "userId": "07361859627404914753"
     },
     "user_tz": -60
    },
    "id": "SlUFAty-LctT",
    "outputId": "697ac202-2b65-4e66-9faa-1d82bef523cd"
   },
   "outputs": [
    {
     "data": {
      "text/html": [
       "<div>\n",
       "<style scoped>\n",
       "    .dataframe tbody tr th:only-of-type {\n",
       "        vertical-align: middle;\n",
       "    }\n",
       "\n",
       "    .dataframe tbody tr th {\n",
       "        vertical-align: top;\n",
       "    }\n",
       "\n",
       "    .dataframe thead th {\n",
       "        text-align: right;\n",
       "    }\n",
       "</style>\n",
       "<table border=\"1\" class=\"dataframe\">\n",
       "  <thead>\n",
       "    <tr style=\"text-align: right;\">\n",
       "      <th></th>\n",
       "      <th>Country/Region</th>\n",
       "      <th>Date (yyyy/mm/dd)</th>\n",
       "      <th>Confirmed cases</th>\n",
       "      <th>Death cases</th>\n",
       "      <th>Recovered cases</th>\n",
       "    </tr>\n",
       "  </thead>\n",
       "  <tbody>\n",
       "    <tr>\n",
       "      <td>14240</td>\n",
       "      <td>Yemen</td>\n",
       "      <td>2020-04-03</td>\n",
       "      <td>0</td>\n",
       "      <td>0</td>\n",
       "      <td>0</td>\n",
       "    </tr>\n",
       "    <tr>\n",
       "      <td>14241</td>\n",
       "      <td>Yemen</td>\n",
       "      <td>2020-04-04</td>\n",
       "      <td>0</td>\n",
       "      <td>0</td>\n",
       "      <td>0</td>\n",
       "    </tr>\n",
       "    <tr>\n",
       "      <td>14242</td>\n",
       "      <td>Yemen</td>\n",
       "      <td>2020-04-05</td>\n",
       "      <td>0</td>\n",
       "      <td>0</td>\n",
       "      <td>0</td>\n",
       "    </tr>\n",
       "    <tr>\n",
       "      <td>14243</td>\n",
       "      <td>Yemen</td>\n",
       "      <td>2020-04-06</td>\n",
       "      <td>0</td>\n",
       "      <td>0</td>\n",
       "      <td>0</td>\n",
       "    </tr>\n",
       "    <tr>\n",
       "      <td>14244</td>\n",
       "      <td>Yemen</td>\n",
       "      <td>2020-04-07</td>\n",
       "      <td>0</td>\n",
       "      <td>0</td>\n",
       "      <td>0</td>\n",
       "    </tr>\n",
       "  </tbody>\n",
       "</table>\n",
       "</div>"
      ],
      "text/plain": [
       "      Country/Region Date (yyyy/mm/dd)  Confirmed cases  Death cases  \\\n",
       "14240          Yemen        2020-04-03                0            0   \n",
       "14241          Yemen        2020-04-04                0            0   \n",
       "14242          Yemen        2020-04-05                0            0   \n",
       "14243          Yemen        2020-04-06                0            0   \n",
       "14244          Yemen        2020-04-07                0            0   \n",
       "\n",
       "       Recovered cases  \n",
       "14240                0  \n",
       "14241                0  \n",
       "14242                0  \n",
       "14243                0  \n",
       "14244                0  "
      ]
     },
     "execution_count": 6,
     "metadata": {},
     "output_type": "execute_result"
    }
   ],
   "source": [
    "# Code here:\n",
    "df.tail(5)"
   ]
  },
  {
   "cell_type": "markdown",
   "metadata": {
    "colab_type": "text",
    "id": "f_zW1ZUq_U7g"
   },
   "source": [
    "##### **Q1.1. Rename the columns of the dataset to make it easier to work with.**\n",
    "Use the follow dictionary to rename the columns:\n",
    "```\n",
    "{'Country/Region': 'country',\n",
    " 'Date (yyyy/mm/dd)': 'date',\n",
    " 'Confirmed cases': 'confirmed',\n",
    " 'Death cases': 'deaths',\n",
    " 'Recovered cases': 'recovered'\n",
    "}\n",
    "```"
   ]
  },
  {
   "cell_type": "code",
   "execution_count": 7,
   "metadata": {
    "colab": {},
    "colab_type": "code",
    "id": "726t_0wAFXjN"
   },
   "outputs": [],
   "source": [
    "# Code here:\n",
    "df = df.rename(columns={'Country/Region': 'country',\n",
    " 'Date (yyyy/mm/dd)': 'date',\n",
    " 'Confirmed cases': 'confirmed',\n",
    " 'Death cases': 'deaths',\n",
    " 'Recovered cases': 'recovered'\n",
    "})"
   ]
  },
  {
   "cell_type": "code",
   "execution_count": 8,
   "metadata": {
    "colab": {
     "base_uri": "https://localhost:8080/",
     "height": 34
    },
    "colab_type": "code",
    "executionInfo": {
     "elapsed": 681,
     "status": "ok",
     "timestamp": 1586872992314,
     "user": {
      "displayName": "Nuno Reis",
      "photoUrl": "",
      "userId": "07361859627404914753"
     },
     "user_tz": -60
    },
    "id": "n419cKm89bod",
    "outputId": "774c50af-7eb1-4c63-dfd5-59b3ec7f4e72"
   },
   "outputs": [
    {
     "data": {
      "text/plain": [
       "Index(['country', 'date', 'confirmed', 'deaths', 'recovered'], dtype='object')"
      ]
     },
     "execution_count": 8,
     "metadata": {},
     "output_type": "execute_result"
    }
   ],
   "source": [
    "df.columns"
   ]
  },
  {
   "cell_type": "markdown",
   "metadata": {
    "colab_type": "text",
    "id": "kfyO6LYJHShO"
   },
   "source": [
    "#### **Q2. What is the type of each column of the dataset?**"
   ]
  },
  {
   "cell_type": "code",
   "execution_count": 9,
   "metadata": {
    "colab": {
     "base_uri": "https://localhost:8080/",
     "height": 119
    },
    "colab_type": "code",
    "executionInfo": {
     "elapsed": 969,
     "status": "ok",
     "timestamp": 1586872995677,
     "user": {
      "displayName": "Nuno Reis",
      "photoUrl": "",
      "userId": "07361859627404914753"
     },
     "user_tz": -60
    },
    "id": "Zes5YJRVLhJ8",
    "outputId": "6dc43ee2-2067-4700-c93f-6255bdd20590"
   },
   "outputs": [
    {
     "data": {
      "text/plain": [
       "country      object\n",
       "date         object\n",
       "confirmed     int64\n",
       "deaths        int64\n",
       "recovered     int64\n",
       "dtype: object"
      ]
     },
     "execution_count": 9,
     "metadata": {},
     "output_type": "execute_result"
    }
   ],
   "source": [
    "# Code here:\n",
    "df.dtypes"
   ]
  },
  {
   "cell_type": "markdown",
   "metadata": {
    "colab_type": "text",
    "id": "BMSR_5-DArIi"
   },
   "source": [
    "##### **Q2.1. Change the type of the 'date' column to datetime.**"
   ]
  },
  {
   "cell_type": "code",
   "execution_count": 10,
   "metadata": {
    "colab": {
     "base_uri": "https://localhost:8080/",
     "height": 119
    },
    "colab_type": "code",
    "executionInfo": {
     "elapsed": 557,
     "status": "ok",
     "timestamp": 1586872997320,
     "user": {
      "displayName": "Nuno Reis",
      "photoUrl": "",
      "userId": "07361859627404914753"
     },
     "user_tz": -60
    },
    "id": "KPr8EbWNBr5y",
    "outputId": "96d3dfe7-b60a-4cdf-d855-3399f93a6662"
   },
   "outputs": [
    {
     "data": {
      "text/plain": [
       "country              object\n",
       "date         datetime64[ns]\n",
       "confirmed             int64\n",
       "deaths                int64\n",
       "recovered             int64\n",
       "dtype: object"
      ]
     },
     "execution_count": 10,
     "metadata": {},
     "output_type": "execute_result"
    }
   ],
   "source": [
    "# Code here:\n",
    "df[\"date\"] = pd.to_datetime(df[\"date\"])\n",
    "\n",
    "df.dtypes"
   ]
  },
  {
   "cell_type": "markdown",
   "metadata": {
    "colab_type": "text",
    "id": "8gqNshqCHoJ0"
   },
   "source": [
    "#### **Q3. Do we have \"nulls\" in the dataset?**"
   ]
  },
  {
   "cell_type": "code",
   "execution_count": 11,
   "metadata": {
    "colab": {
     "base_uri": "https://localhost:8080/",
     "height": 119
    },
    "colab_type": "code",
    "executionInfo": {
     "elapsed": 609,
     "status": "ok",
     "timestamp": 1586873002122,
     "user": {
      "displayName": "Nuno Reis",
      "photoUrl": "",
      "userId": "07361859627404914753"
     },
     "user_tz": -60
    },
    "id": "QGWRDQ_MbolA",
    "outputId": "d0d8aa4d-232b-43dd-9043-752cb43c1a42"
   },
   "outputs": [
    {
     "data": {
      "text/plain": [
       "country      0\n",
       "date         0\n",
       "confirmed    0\n",
       "deaths       0\n",
       "recovered    0\n",
       "dtype: int64"
      ]
     },
     "execution_count": 11,
     "metadata": {},
     "output_type": "execute_result"
    }
   ],
   "source": [
    "# Code here:\n",
    "df.isnull().sum()"
   ]
  },
  {
   "cell_type": "markdown",
   "metadata": {
    "colab_type": "text",
    "id": "AyVsxzlNHyyt"
   },
   "source": [
    "#### **Q4. How many countries do we have represented in the dataset?**"
   ]
  },
  {
   "cell_type": "code",
   "execution_count": 12,
   "metadata": {
    "colab": {
     "base_uri": "https://localhost:8080/",
     "height": 34
    },
    "colab_type": "code",
    "executionInfo": {
     "elapsed": 536,
     "status": "ok",
     "timestamp": 1586873004898,
     "user": {
      "displayName": "Nuno Reis",
      "photoUrl": "",
      "userId": "07361859627404914753"
     },
     "user_tz": -60
    },
    "id": "T5Q0GS5bebTL",
    "outputId": "39822b81-0da4-42f2-d5c4-ada6a10ca1e3"
   },
   "outputs": [
    {
     "data": {
      "text/plain": [
       "185"
      ]
     },
     "execution_count": 12,
     "metadata": {},
     "output_type": "execute_result"
    }
   ],
   "source": [
    "# Code here:\n",
    "df['country'].nunique()"
   ]
  },
  {
   "cell_type": "markdown",
   "metadata": {
    "colab_type": "text",
    "id": "G0nSUztrJH27"
   },
   "source": [
    "#### **Q5. What is the first and the last 'date' of the dataset?**"
   ]
  },
  {
   "cell_type": "code",
   "execution_count": 13,
   "metadata": {
    "colab": {
     "base_uri": "https://localhost:8080/",
     "height": 34
    },
    "colab_type": "code",
    "executionInfo": {
     "elapsed": 562,
     "status": "ok",
     "timestamp": 1586873007218,
     "user": {
      "displayName": "Nuno Reis",
      "photoUrl": "",
      "userId": "07361859627404914753"
     },
     "user_tz": -60
    },
    "id": "VNqPhzIXfNoI",
    "outputId": "5f31f208-57f3-4ea8-a239-cb60d52d1c15"
   },
   "outputs": [
    {
     "data": {
      "text/plain": [
       "Timestamp('2020-04-07 00:00:00')"
      ]
     },
     "execution_count": 13,
     "metadata": {},
     "output_type": "execute_result"
    }
   ],
   "source": [
    "# Code here:\n",
    "df['date'].max()"
   ]
  },
  {
   "cell_type": "code",
   "execution_count": 14,
   "metadata": {
    "colab": {
     "base_uri": "https://localhost:8080/",
     "height": 34
    },
    "colab_type": "code",
    "executionInfo": {
     "elapsed": 619,
     "status": "ok",
     "timestamp": 1586873009263,
     "user": {
      "displayName": "Nuno Reis",
      "photoUrl": "",
      "userId": "07361859627404914753"
     },
     "user_tz": -60
    },
    "id": "uKUaemkb_dxO",
    "outputId": "bdf21794-94fd-4932-db45-56b33d5716db"
   },
   "outputs": [
    {
     "data": {
      "text/plain": [
       "Timestamp('2020-01-22 00:00:00')"
      ]
     },
     "execution_count": 14,
     "metadata": {},
     "output_type": "execute_result"
    }
   ],
   "source": [
    "df['date'].min()"
   ]
  },
  {
   "cell_type": "markdown",
   "metadata": {
    "colab_type": "text",
    "id": "lhu0KiaEDe8J"
   },
   "source": [
    "## Unit 2. Data Analysis: Worldwide \n",
    "\n",
    "Time to make some worldwide analysis looking at global metrics and comparing countries."
   ]
  },
  {
   "cell_type": "markdown",
   "metadata": {
    "colab_type": "text",
    "id": "xJ49FpwxLD7h"
   },
   "source": [
    "#### **Q6. We checked before that we have data for 'confirmed', 'recovered' and 'deaths' cases but something is missing... Add the column for 'active' cases to the dataset.**"
   ]
  },
  {
   "cell_type": "code",
   "execution_count": 15,
   "metadata": {
    "colab": {},
    "colab_type": "code",
    "id": "J1w1PepcirAB"
   },
   "outputs": [],
   "source": [
    "# Code here:\n",
    "df['active'] = df['confirmed'] - df['deaths'] - df['recovered']"
   ]
  },
  {
   "cell_type": "markdown",
   "metadata": {
    "colab_type": "text",
    "id": "b725iszzL8bl"
   },
   "source": [
    "#### **Q7. Create a dataset that have the cumulative ACTIVE cases worldwide per day.**"
   ]
  },
  {
   "cell_type": "code",
   "execution_count": 16,
   "metadata": {
    "colab": {
     "base_uri": "https://localhost:8080/",
     "height": 136
    },
    "colab_type": "code",
    "executionInfo": {
     "elapsed": 599,
     "status": "ok",
     "timestamp": 1586873018722,
     "user": {
      "displayName": "Nuno Reis",
      "photoUrl": "",
      "userId": "07361859627404914753"
     },
     "user_tz": -60
    },
    "id": "voibydFclDB4",
    "outputId": "3304d755-f95e-49f5-fa5b-00a7dda10398"
   },
   "outputs": [
    {
     "data": {
      "text/plain": [
       "date\n",
       "2020-01-22     510\n",
       "2020-01-23     606\n",
       "2020-01-24     879\n",
       "2020-01-25    1353\n",
       "2020-01-26    2010\n",
       "Name: active, dtype: int64"
      ]
     },
     "execution_count": 16,
     "metadata": {},
     "output_type": "execute_result"
    }
   ],
   "source": [
    "# Code here:\n",
    "total_cases = df.groupby('date')['active'].sum()\n",
    "total_cases.head()"
   ]
  },
  {
   "cell_type": "markdown",
   "metadata": {
    "colab_type": "text",
    "id": "dOfftThTMoFc"
   },
   "source": [
    "![showtime](https://media.giphy.com/media/13ZVRnWnmSMaRy/giphy.gif)\n",
    "\n",
    "***IT'S SHOOOOOOW TIME***\n",
    "\n",
    "#### **Q8. Plot the curve with the evolution of the active cases worlwide.**"
   ]
  },
  {
   "cell_type": "code",
   "execution_count": 17,
   "metadata": {
    "colab": {
     "base_uri": "https://localhost:8080/",
     "height": 330
    },
    "colab_type": "code",
    "executionInfo": {
     "elapsed": 1403,
     "status": "ok",
     "timestamp": 1586873022304,
     "user": {
      "displayName": "Nuno Reis",
      "photoUrl": "",
      "userId": "07361859627404914753"
     },
     "user_tz": -60
    },
    "id": "oZ1vzWgUjotD",
    "outputId": "d4a70394-95c5-40e9-9ef7-c69b654f4155"
   },
   "outputs": [
    {
     "data": {
      "image/png": "[encoded data removed]",
      "text/plain": [
       "<Figure size 432x288 with 1 Axes>"
      ]
     },
     "metadata": {
      "needs_background": "light"
     },
     "output_type": "display_data"
    }
   ],
   "source": [
    "# Code here:\n",
    "total_cases.plot()\n",
    "plt.title('The cumulative total of active cases')\n",
    "plt.ylabel('Number of active cases')\n",
    "plt.grid()\n",
    "plt.xlabel('Days')\n",
    "plt.show()"
   ]
  },
  {
   "cell_type": "markdown",
   "metadata": {
    "colab_type": "text",
    "id": "oAHGd26ANxqZ"
   },
   "source": [
    "#### **Q9. Get the top 10 countries by confirmed cases and plot a bar chart with the top 10 countries with more confirmed cases.**\n",
    "> **Hint**: You can filter the dataset by the latest day of the dataset (it has the number of confirmed cases in each country). Then sort the values by 'confirmed' and use `head(10)` to get the top 10."
   ]
  },
  {
   "cell_type": "code",
   "execution_count": 18,
   "metadata": {
    "colab": {
     "base_uri": "https://localhost:8080/",
     "height": 359
    },
    "colab_type": "code",
    "executionInfo": {
     "elapsed": 1128,
     "status": "ok",
     "timestamp": 1586873034396,
     "user": {
      "displayName": "Nuno Reis",
      "photoUrl": "",
      "userId": "07361859627404914753"
     },
     "user_tz": -60
    },
    "id": "ZjSaEFjxiq0-",
    "outputId": "e0107744-297c-45aa-e9d0-d32200303624"
   },
   "outputs": [
    {
     "data": {
      "text/html": [
       "<div>\n",
       "<style scoped>\n",
       "    .dataframe tbody tr th:only-of-type {\n",
       "        vertical-align: middle;\n",
       "    }\n",
       "\n",
       "    .dataframe tbody tr th {\n",
       "        vertical-align: top;\n",
       "    }\n",
       "\n",
       "    .dataframe thead th {\n",
       "        text-align: right;\n",
       "    }\n",
       "</style>\n",
       "<table border=\"1\" class=\"dataframe\">\n",
       "  <thead>\n",
       "    <tr style=\"text-align: right;\">\n",
       "      <th></th>\n",
       "      <th>country</th>\n",
       "      <th>date</th>\n",
       "      <th>confirmed</th>\n",
       "      <th>deaths</th>\n",
       "      <th>recovered</th>\n",
       "      <th>active</th>\n",
       "    </tr>\n",
       "  </thead>\n",
       "  <tbody>\n",
       "    <tr>\n",
       "      <td>12088</td>\n",
       "      <td>US</td>\n",
       "      <td>2020-04-07</td>\n",
       "      <td>396223</td>\n",
       "      <td>12722</td>\n",
       "      <td>21763</td>\n",
       "      <td>361738</td>\n",
       "    </tr>\n",
       "    <tr>\n",
       "      <td>10702</td>\n",
       "      <td>Spain</td>\n",
       "      <td>2020-04-07</td>\n",
       "      <td>141942</td>\n",
       "      <td>14045</td>\n",
       "      <td>43208</td>\n",
       "      <td>84689</td>\n",
       "    </tr>\n",
       "    <tr>\n",
       "      <td>6005</td>\n",
       "      <td>Italy</td>\n",
       "      <td>2020-04-07</td>\n",
       "      <td>135586</td>\n",
       "      <td>17127</td>\n",
       "      <td>24392</td>\n",
       "      <td>94067</td>\n",
       "    </tr>\n",
       "    <tr>\n",
       "      <td>4388</td>\n",
       "      <td>France</td>\n",
       "      <td>2020-04-07</td>\n",
       "      <td>110065</td>\n",
       "      <td>10343</td>\n",
       "      <td>19523</td>\n",
       "      <td>80199</td>\n",
       "    </tr>\n",
       "    <tr>\n",
       "      <td>4696</td>\n",
       "      <td>Germany</td>\n",
       "      <td>2020-04-07</td>\n",
       "      <td>107663</td>\n",
       "      <td>2016</td>\n",
       "      <td>36081</td>\n",
       "      <td>69566</td>\n",
       "    </tr>\n",
       "    <tr>\n",
       "      <td>2540</td>\n",
       "      <td>China</td>\n",
       "      <td>2020-04-07</td>\n",
       "      <td>82718</td>\n",
       "      <td>3335</td>\n",
       "      <td>77410</td>\n",
       "      <td>1973</td>\n",
       "    </tr>\n",
       "    <tr>\n",
       "      <td>5697</td>\n",
       "      <td>Iran</td>\n",
       "      <td>2020-04-07</td>\n",
       "      <td>62589</td>\n",
       "      <td>3872</td>\n",
       "      <td>27039</td>\n",
       "      <td>31678</td>\n",
       "    </tr>\n",
       "    <tr>\n",
       "      <td>11934</td>\n",
       "      <td>United Kingdom</td>\n",
       "      <td>2020-04-07</td>\n",
       "      <td>55949</td>\n",
       "      <td>6171</td>\n",
       "      <td>325</td>\n",
       "      <td>49453</td>\n",
       "    </tr>\n",
       "    <tr>\n",
       "      <td>11626</td>\n",
       "      <td>Turkey</td>\n",
       "      <td>2020-04-07</td>\n",
       "      <td>34109</td>\n",
       "      <td>725</td>\n",
       "      <td>1582</td>\n",
       "      <td>31802</td>\n",
       "    </tr>\n",
       "    <tr>\n",
       "      <td>11087</td>\n",
       "      <td>Switzerland</td>\n",
       "      <td>2020-04-07</td>\n",
       "      <td>22253</td>\n",
       "      <td>821</td>\n",
       "      <td>8704</td>\n",
       "      <td>12728</td>\n",
       "    </tr>\n",
       "  </tbody>\n",
       "</table>\n",
       "</div>"
      ],
      "text/plain": [
       "              country       date  confirmed  deaths  recovered  active\n",
       "12088              US 2020-04-07     396223   12722      21763  361738\n",
       "10702           Spain 2020-04-07     141942   14045      43208   84689\n",
       "6005            Italy 2020-04-07     135586   17127      24392   94067\n",
       "4388           France 2020-04-07     110065   10343      19523   80199\n",
       "4696          Germany 2020-04-07     107663    2016      36081   69566\n",
       "2540            China 2020-04-07      82718    3335      77410    1973\n",
       "5697             Iran 2020-04-07      62589    3872      27039   31678\n",
       "11934  United Kingdom 2020-04-07      55949    6171        325   49453\n",
       "11626          Turkey 2020-04-07      34109     725       1582   31802\n",
       "11087     Switzerland 2020-04-07      22253     821       8704   12728"
      ]
     },
     "execution_count": 18,
     "metadata": {},
     "output_type": "execute_result"
    }
   ],
   "source": [
    "# Code here to get the top 10:\n",
    "last_date_values = df[df['date'] == df['date'].max()]\n",
    "last_values_top10 = last_date_values.sort_values(by='confirmed', ascending = False).head(10)\n",
    "last_values_top10"
   ]
  },
  {
   "cell_type": "code",
   "execution_count": 19,
   "metadata": {
    "colab": {
     "base_uri": "https://localhost:8080/",
     "height": 295
    },
    "colab_type": "code",
    "executionInfo": {
     "elapsed": 594,
     "status": "ok",
     "timestamp": 1586873036650,
     "user": {
      "displayName": "Nuno Reis",
      "photoUrl": "",
      "userId": "07361859627404914753"
     },
     "user_tz": -60
    },
    "id": "YRKIU_iFwqgy",
    "outputId": "131bcec0-e4dc-4521-ee19-1c8fb128b677"
   },
   "outputs": [
    {
     "data": {
      "image/png": "[encoded data removed]",
      "text/plain": [
       "<Figure size 432x288 with 1 Axes>"
      ]
     },
     "metadata": {
      "needs_background": "light"
     },
     "output_type": "display_data"
    }
   ],
   "source": [
    "# Code here to plot the bar chart:\n",
    "plt.barh(last_values_top10['country'], last_values_top10['confirmed'])\n",
    "plt.xlabel('Number of confirmed cases')\n",
    "plt.ylabel('Countries')\n",
    "plt.title('Top 10 countries by confirmed cases')\n",
    "plt.show()"
   ]
  },
  {
   "cell_type": "markdown",
   "metadata": {
    "colab_type": "text",
    "id": "saevC45eYxGN"
   },
   "source": [
    "#### **Q10. Calculate the recovery percentage and mortality rate for each country in latest day**\n",
    "\n",
    "> **Hint:** Create a dataset with just the last date and create a column for each of the ratios we want:"
   ]
  },
  {
   "cell_type": "code",
   "execution_count": 20,
   "metadata": {
    "colab": {
     "base_uri": "https://localhost:8080/",
     "height": 419
    },
    "colab_type": "code",
    "executionInfo": {
     "elapsed": 648,
     "status": "ok",
     "timestamp": 1586873114870,
     "user": {
      "displayName": "Nuno Reis",
      "photoUrl": "",
      "userId": "07361859627404914753"
     },
     "user_tz": -60
    },
    "id": "YnDJbonlYv0l",
    "outputId": "045f7b57-8e2b-4b71-f3b1-4f5fb29f5fe8"
   },
   "outputs": [
    {
     "data": {
      "text/html": [
       "<div>\n",
       "<style scoped>\n",
       "    .dataframe tbody tr th:only-of-type {\n",
       "        vertical-align: middle;\n",
       "    }\n",
       "\n",
       "    .dataframe tbody tr th {\n",
       "        vertical-align: top;\n",
       "    }\n",
       "\n",
       "    .dataframe thead th {\n",
       "        text-align: right;\n",
       "    }\n",
       "</style>\n",
       "<table border=\"1\" class=\"dataframe\">\n",
       "  <thead>\n",
       "    <tr style=\"text-align: right;\">\n",
       "      <th></th>\n",
       "      <th>country</th>\n",
       "      <th>date</th>\n",
       "      <th>confirmed</th>\n",
       "      <th>deaths</th>\n",
       "      <th>recovered</th>\n",
       "      <th>active</th>\n",
       "      <th>recovery percentage</th>\n",
       "      <th>mortality rate</th>\n",
       "    </tr>\n",
       "  </thead>\n",
       "  <tbody>\n",
       "    <tr>\n",
       "      <td>76</td>\n",
       "      <td>Afghanistan</td>\n",
       "      <td>2020-04-07</td>\n",
       "      <td>423</td>\n",
       "      <td>14</td>\n",
       "      <td>18</td>\n",
       "      <td>391</td>\n",
       "      <td>4.255319</td>\n",
       "      <td>3.309693</td>\n",
       "    </tr>\n",
       "    <tr>\n",
       "      <td>153</td>\n",
       "      <td>Albania</td>\n",
       "      <td>2020-04-07</td>\n",
       "      <td>383</td>\n",
       "      <td>22</td>\n",
       "      <td>131</td>\n",
       "      <td>230</td>\n",
       "      <td>34.203655</td>\n",
       "      <td>5.744125</td>\n",
       "    </tr>\n",
       "    <tr>\n",
       "      <td>230</td>\n",
       "      <td>Algeria</td>\n",
       "      <td>2020-04-07</td>\n",
       "      <td>1468</td>\n",
       "      <td>193</td>\n",
       "      <td>113</td>\n",
       "      <td>1162</td>\n",
       "      <td>7.697548</td>\n",
       "      <td>13.147139</td>\n",
       "    </tr>\n",
       "    <tr>\n",
       "      <td>307</td>\n",
       "      <td>Andorra</td>\n",
       "      <td>2020-04-07</td>\n",
       "      <td>545</td>\n",
       "      <td>22</td>\n",
       "      <td>39</td>\n",
       "      <td>484</td>\n",
       "      <td>7.155963</td>\n",
       "      <td>4.036697</td>\n",
       "    </tr>\n",
       "    <tr>\n",
       "      <td>384</td>\n",
       "      <td>Angola</td>\n",
       "      <td>2020-04-07</td>\n",
       "      <td>17</td>\n",
       "      <td>2</td>\n",
       "      <td>2</td>\n",
       "      <td>13</td>\n",
       "      <td>11.764706</td>\n",
       "      <td>11.764706</td>\n",
       "    </tr>\n",
       "    <tr>\n",
       "      <td>...</td>\n",
       "      <td>...</td>\n",
       "      <td>...</td>\n",
       "      <td>...</td>\n",
       "      <td>...</td>\n",
       "      <td>...</td>\n",
       "      <td>...</td>\n",
       "      <td>...</td>\n",
       "      <td>...</td>\n",
       "    </tr>\n",
       "    <tr>\n",
       "      <td>13936</td>\n",
       "      <td>Malawi</td>\n",
       "      <td>2020-04-07</td>\n",
       "      <td>8</td>\n",
       "      <td>1</td>\n",
       "      <td>0</td>\n",
       "      <td>7</td>\n",
       "      <td>0.000000</td>\n",
       "      <td>12.500000</td>\n",
       "    </tr>\n",
       "    <tr>\n",
       "      <td>14013</td>\n",
       "      <td>South Sudan</td>\n",
       "      <td>2020-04-07</td>\n",
       "      <td>2</td>\n",
       "      <td>0</td>\n",
       "      <td>0</td>\n",
       "      <td>2</td>\n",
       "      <td>0.000000</td>\n",
       "      <td>0.000000</td>\n",
       "    </tr>\n",
       "    <tr>\n",
       "      <td>14090</td>\n",
       "      <td>Western Sahara</td>\n",
       "      <td>2020-04-07</td>\n",
       "      <td>4</td>\n",
       "      <td>0</td>\n",
       "      <td>0</td>\n",
       "      <td>4</td>\n",
       "      <td>0.000000</td>\n",
       "      <td>0.000000</td>\n",
       "    </tr>\n",
       "    <tr>\n",
       "      <td>14167</td>\n",
       "      <td>Sao Tome and Principe</td>\n",
       "      <td>2020-04-07</td>\n",
       "      <td>4</td>\n",
       "      <td>0</td>\n",
       "      <td>0</td>\n",
       "      <td>4</td>\n",
       "      <td>0.000000</td>\n",
       "      <td>0.000000</td>\n",
       "    </tr>\n",
       "    <tr>\n",
       "      <td>14244</td>\n",
       "      <td>Yemen</td>\n",
       "      <td>2020-04-07</td>\n",
       "      <td>0</td>\n",
       "      <td>0</td>\n",
       "      <td>0</td>\n",
       "      <td>0</td>\n",
       "      <td>NaN</td>\n",
       "      <td>NaN</td>\n",
       "    </tr>\n",
       "  </tbody>\n",
       "</table>\n",
       "<p>185 rows × 8 columns</p>\n",
       "</div>"
      ],
      "text/plain": [
       "                     country       date  confirmed  deaths  recovered  active  \\\n",
       "76               Afghanistan 2020-04-07        423      14         18     391   \n",
       "153                  Albania 2020-04-07        383      22        131     230   \n",
       "230                  Algeria 2020-04-07       1468     193        113    1162   \n",
       "307                  Andorra 2020-04-07        545      22         39     484   \n",
       "384                   Angola 2020-04-07         17       2          2      13   \n",
       "...                      ...        ...        ...     ...        ...     ...   \n",
       "13936                 Malawi 2020-04-07          8       1          0       7   \n",
       "14013            South Sudan 2020-04-07          2       0          0       2   \n",
       "14090         Western Sahara 2020-04-07          4       0          0       4   \n",
       "14167  Sao Tome and Principe 2020-04-07          4       0          0       4   \n",
       "14244                  Yemen 2020-04-07          0       0          0       0   \n",
       "\n",
       "       recovery percentage  mortality rate  \n",
       "76                4.255319        3.309693  \n",
       "153              34.203655        5.744125  \n",
       "230               7.697548       13.147139  \n",
       "307               7.155963        4.036697  \n",
       "384              11.764706       11.764706  \n",
       "...                    ...             ...  \n",
       "13936             0.000000       12.500000  \n",
       "14013             0.000000        0.000000  \n",
       "14090             0.000000        0.000000  \n",
       "14167             0.000000        0.000000  \n",
       "14244                  NaN             NaN  \n",
       "\n",
       "[185 rows x 8 columns]"
      ]
     },
     "execution_count": 20,
     "metadata": {},
     "output_type": "execute_result"
    }
   ],
   "source": [
    "# Code here:\n",
    "rates = df[df['date'] == df['date'].max()]\n",
    "rates['recovery percentage'] =  (rates['recovered'] / rates['confirmed']) * 100\n",
    "rates['mortality rate'] =  (rates['deaths'] / rates['confirmed']) * 100\n",
    "rates"
   ]
  },
  {
   "cell_type": "markdown",
   "metadata": {
    "colab_type": "text",
    "id": "ehX789K6jt2w"
   },
   "source": [
    "![](https://media.giphy.com/media/rbaC8w0QY1vGw/giphy.gif)\n",
    "\n",
    "##### **POLYGRAPH TIME!!!**\n",
    "\n",
    "> ***BREAKING NEWS:***\n",
    "> \n",
    "> *Netherlands has the highest recovery percentage in the world!*\n",
    "\n",
    "\n",
    "##### **Q10.1. Is this a fake news?**"
   ]
  },
  {
   "cell_type": "code",
   "execution_count": 21,
   "metadata": {
    "colab": {
     "base_uri": "https://localhost:8080/",
     "height": 204
    },
    "colab_type": "code",
    "executionInfo": {
     "elapsed": 473,
     "status": "ok",
     "timestamp": 1586873121021,
     "user": {
      "displayName": "Nuno Reis",
      "photoUrl": "",
      "userId": "07361859627404914753"
     },
     "user_tz": -60
    },
    "id": "SVD-BL1xkvSi",
    "outputId": "4c13a464-229b-4ff7-f9d0-89df4e8bafec"
   },
   "outputs": [
    {
     "data": {
      "text/html": [
       "<div>\n",
       "<style scoped>\n",
       "    .dataframe tbody tr th:only-of-type {\n",
       "        vertical-align: middle;\n",
       "    }\n",
       "\n",
       "    .dataframe tbody tr th {\n",
       "        vertical-align: top;\n",
       "    }\n",
       "\n",
       "    .dataframe thead th {\n",
       "        text-align: right;\n",
       "    }\n",
       "</style>\n",
       "<table border=\"1\" class=\"dataframe\">\n",
       "  <thead>\n",
       "    <tr style=\"text-align: right;\">\n",
       "      <th></th>\n",
       "      <th>country</th>\n",
       "      <th>date</th>\n",
       "      <th>confirmed</th>\n",
       "      <th>deaths</th>\n",
       "      <th>recovered</th>\n",
       "      <th>active</th>\n",
       "      <th>recovery percentage</th>\n",
       "      <th>mortality rate</th>\n",
       "    </tr>\n",
       "  </thead>\n",
       "  <tbody>\n",
       "    <tr>\n",
       "      <td>2540</td>\n",
       "      <td>China</td>\n",
       "      <td>2020-04-07</td>\n",
       "      <td>82718</td>\n",
       "      <td>3335</td>\n",
       "      <td>77410</td>\n",
       "      <td>1973</td>\n",
       "      <td>93.583017</td>\n",
       "      <td>4.031771</td>\n",
       "    </tr>\n",
       "    <tr>\n",
       "      <td>3079</td>\n",
       "      <td>Diamond Princess</td>\n",
       "      <td>2020-04-07</td>\n",
       "      <td>712</td>\n",
       "      <td>11</td>\n",
       "      <td>619</td>\n",
       "      <td>82</td>\n",
       "      <td>86.938202</td>\n",
       "      <td>1.544944</td>\n",
       "    </tr>\n",
       "    <tr>\n",
       "      <td>6929</td>\n",
       "      <td>Liechtenstein</td>\n",
       "      <td>2020-04-07</td>\n",
       "      <td>78</td>\n",
       "      <td>1</td>\n",
       "      <td>55</td>\n",
       "      <td>22</td>\n",
       "      <td>70.512821</td>\n",
       "      <td>1.282051</td>\n",
       "    </tr>\n",
       "    <tr>\n",
       "      <td>7314</td>\n",
       "      <td>Maldives</td>\n",
       "      <td>2020-04-07</td>\n",
       "      <td>19</td>\n",
       "      <td>0</td>\n",
       "      <td>13</td>\n",
       "      <td>6</td>\n",
       "      <td>68.421053</td>\n",
       "      <td>0.000000</td>\n",
       "    </tr>\n",
       "    <tr>\n",
       "      <td>6467</td>\n",
       "      <td>Korea, South</td>\n",
       "      <td>2020-04-07</td>\n",
       "      <td>10331</td>\n",
       "      <td>192</td>\n",
       "      <td>6694</td>\n",
       "      <td>3445</td>\n",
       "      <td>64.795276</td>\n",
       "      <td>1.858484</td>\n",
       "    </tr>\n",
       "  </tbody>\n",
       "</table>\n",
       "</div>"
      ],
      "text/plain": [
       "               country       date  confirmed  deaths  recovered  active  \\\n",
       "2540             China 2020-04-07      82718    3335      77410    1973   \n",
       "3079  Diamond Princess 2020-04-07        712      11        619      82   \n",
       "6929     Liechtenstein 2020-04-07         78       1         55      22   \n",
       "7314          Maldives 2020-04-07         19       0         13       6   \n",
       "6467      Korea, South 2020-04-07      10331     192       6694    3445   \n",
       "\n",
       "      recovery percentage  mortality rate  \n",
       "2540            93.583017        4.031771  \n",
       "3079            86.938202        1.544944  \n",
       "6929            70.512821        1.282051  \n",
       "7314            68.421053        0.000000  \n",
       "6467            64.795276        1.858484  "
      ]
     },
     "execution_count": 21,
     "metadata": {},
     "output_type": "execute_result"
    }
   ],
   "source": [
    "# Code here:\n",
    "rates.sort_values(by = 'recovery percentage', ascending = False).head()"
   ]
  },
  {
   "cell_type": "markdown",
   "metadata": {
    "colab_type": "text",
    "id": "iQyS4RZICKG-"
   },
   "source": [
    "China has the highest recovery percentage in the world!\n",
    "\n",
    "BOOOOOM, ONE MORE FAKE NEWS!! We hate those!!"
   ]
  },
  {
   "cell_type": "markdown",
   "metadata": {
    "colab_type": "text",
    "id": "O1NmoCMST_4Q"
   },
   "source": [
    "## Unit 3. Data analysis - Country\n",
    "\n",
    "From now on, you will only analyse one country that will attributed by your mentor."
   ]
  },
  {
   "cell_type": "markdown",
   "metadata": {
    "colab_type": "text",
    "id": "HYWzqYhYfEmd"
   },
   "source": [
    "For this chapter consider the following values of population (you need the value for your country population to make a further question):"
   ]
  },
  {
   "cell_type": "code",
   "execution_count": 22,
   "metadata": {
    "colab": {},
    "colab_type": "code",
    "id": "ct6eyil0xABI"
   },
   "outputs": [],
   "source": [
    "population = {'US': 331002651,\n",
    "              'Spain': 46754778,\n",
    "              'Italy': 60461826,\n",
    "              'Portugal': 10196709,\n",
    "              'China': 1439323776,\n",
    "              'United Kingdom': 67886011,\n",
    "              'Germany': 83783942,\n",
    "              'France': 65273511,\n",
    "              'Norway': 5421241,\n",
    "              'Iran': 83992949,\n",
    "              'Belgium': 11589623,\n",
    "              'Netherlands': 17134872}"
   ]
  },
  {
   "cell_type": "markdown",
   "metadata": {
    "colab_type": "text",
    "id": "B8k35RXXDyHN"
   },
   "source": [
    "### Attention: **The solution is assuming your country is Germany**!"
   ]
  },
  {
   "cell_type": "markdown",
   "metadata": {
    "colab_type": "text",
    "id": "lwJbowveVomV"
   },
   "source": [
    "#### **Q11. Get a dataset that contains only information regarding your country.**"
   ]
  },
  {
   "cell_type": "code",
   "execution_count": 23,
   "metadata": {
    "colab": {},
    "colab_type": "code",
    "id": "-3eK5rBHUsQk"
   },
   "outputs": [],
   "source": [
    "# Code here:\n",
    "my_country = 'Germany'\n",
    "my_country_population = population[my_country]\n",
    "my_country_df = df[df.country == my_country]"
   ]
  },
  {
   "cell_type": "code",
   "execution_count": 24,
   "metadata": {
    "colab": {
     "base_uri": "https://localhost:8080/",
     "height": 204
    },
    "colab_type": "code",
    "executionInfo": {
     "elapsed": 337,
     "status": "ok",
     "timestamp": 1586873134910,
     "user": {
      "displayName": "Nuno Reis",
      "photoUrl": "",
      "userId": "07361859627404914753"
     },
     "user_tz": -60
    },
    "id": "gUej-cqnEEjf",
    "outputId": "665d9a2a-e3ec-4db4-da0a-f4bfcf664e96"
   },
   "outputs": [
    {
     "data": {
      "text/html": [
       "<div>\n",
       "<style scoped>\n",
       "    .dataframe tbody tr th:only-of-type {\n",
       "        vertical-align: middle;\n",
       "    }\n",
       "\n",
       "    .dataframe tbody tr th {\n",
       "        vertical-align: top;\n",
       "    }\n",
       "\n",
       "    .dataframe thead th {\n",
       "        text-align: right;\n",
       "    }\n",
       "</style>\n",
       "<table border=\"1\" class=\"dataframe\">\n",
       "  <thead>\n",
       "    <tr style=\"text-align: right;\">\n",
       "      <th></th>\n",
       "      <th>country</th>\n",
       "      <th>date</th>\n",
       "      <th>confirmed</th>\n",
       "      <th>deaths</th>\n",
       "      <th>recovered</th>\n",
       "      <th>active</th>\n",
       "    </tr>\n",
       "  </thead>\n",
       "  <tbody>\n",
       "    <tr>\n",
       "      <td>4620</td>\n",
       "      <td>Germany</td>\n",
       "      <td>2020-01-22</td>\n",
       "      <td>0</td>\n",
       "      <td>0</td>\n",
       "      <td>0</td>\n",
       "      <td>0</td>\n",
       "    </tr>\n",
       "    <tr>\n",
       "      <td>4621</td>\n",
       "      <td>Germany</td>\n",
       "      <td>2020-01-23</td>\n",
       "      <td>0</td>\n",
       "      <td>0</td>\n",
       "      <td>0</td>\n",
       "      <td>0</td>\n",
       "    </tr>\n",
       "    <tr>\n",
       "      <td>4622</td>\n",
       "      <td>Germany</td>\n",
       "      <td>2020-01-24</td>\n",
       "      <td>0</td>\n",
       "      <td>0</td>\n",
       "      <td>0</td>\n",
       "      <td>0</td>\n",
       "    </tr>\n",
       "    <tr>\n",
       "      <td>4623</td>\n",
       "      <td>Germany</td>\n",
       "      <td>2020-01-25</td>\n",
       "      <td>0</td>\n",
       "      <td>0</td>\n",
       "      <td>0</td>\n",
       "      <td>0</td>\n",
       "    </tr>\n",
       "    <tr>\n",
       "      <td>4624</td>\n",
       "      <td>Germany</td>\n",
       "      <td>2020-01-26</td>\n",
       "      <td>0</td>\n",
       "      <td>0</td>\n",
       "      <td>0</td>\n",
       "      <td>0</td>\n",
       "    </tr>\n",
       "  </tbody>\n",
       "</table>\n",
       "</div>"
      ],
      "text/plain": [
       "      country       date  confirmed  deaths  recovered  active\n",
       "4620  Germany 2020-01-22          0       0          0       0\n",
       "4621  Germany 2020-01-23          0       0          0       0\n",
       "4622  Germany 2020-01-24          0       0          0       0\n",
       "4623  Germany 2020-01-25          0       0          0       0\n",
       "4624  Germany 2020-01-26          0       0          0       0"
      ]
     },
     "execution_count": 24,
     "metadata": {},
     "output_type": "execute_result"
    }
   ],
   "source": [
    "my_country_df.head()"
   ]
  },
  {
   "cell_type": "markdown",
   "metadata": {
    "colab_type": "text",
    "id": "u1fzS1Qhc1F5"
   },
   "source": [
    "#### **Q12. Create a dataset that only contains information since the day that was registered the first case in your country. Tell us what is that day and how many cases were registered in that day?**"
   ]
  },
  {
   "cell_type": "code",
   "execution_count": 25,
   "metadata": {
    "colab": {
     "base_uri": "https://localhost:8080/",
     "height": 80
    },
    "colab_type": "code",
    "executionInfo": {
     "elapsed": 689,
     "status": "ok",
     "timestamp": 1586873140578,
     "user": {
      "displayName": "Nuno Reis",
      "photoUrl": "",
      "userId": "07361859627404914753"
     },
     "user_tz": -60
    },
    "id": "0ea-WKaRdEzd",
    "outputId": "00b01b5e-7c6a-473c-df06-a9e76ac83879"
   },
   "outputs": [
    {
     "data": {
      "text/html": [
       "<div>\n",
       "<style scoped>\n",
       "    .dataframe tbody tr th:only-of-type {\n",
       "        vertical-align: middle;\n",
       "    }\n",
       "\n",
       "    .dataframe tbody tr th {\n",
       "        vertical-align: top;\n",
       "    }\n",
       "\n",
       "    .dataframe thead th {\n",
       "        text-align: right;\n",
       "    }\n",
       "</style>\n",
       "<table border=\"1\" class=\"dataframe\">\n",
       "  <thead>\n",
       "    <tr style=\"text-align: right;\">\n",
       "      <th></th>\n",
       "      <th>country</th>\n",
       "      <th>date</th>\n",
       "      <th>confirmed</th>\n",
       "      <th>deaths</th>\n",
       "      <th>recovered</th>\n",
       "      <th>active</th>\n",
       "    </tr>\n",
       "  </thead>\n",
       "  <tbody>\n",
       "    <tr>\n",
       "      <td>4625</td>\n",
       "      <td>Germany</td>\n",
       "      <td>2020-01-27</td>\n",
       "      <td>1</td>\n",
       "      <td>0</td>\n",
       "      <td>0</td>\n",
       "      <td>1</td>\n",
       "    </tr>\n",
       "  </tbody>\n",
       "</table>\n",
       "</div>"
      ],
      "text/plain": [
       "      country       date  confirmed  deaths  recovered  active\n",
       "4625  Germany 2020-01-27          1       0          0       1"
      ]
     },
     "execution_count": 25,
     "metadata": {},
     "output_type": "execute_result"
    }
   ],
   "source": [
    "# Code here:\n",
    "my_country_df = my_country_df[my_country_df.confirmed > 0]\n",
    "my_country_df[my_country_df.date == my_country_df.date.min()]"
   ]
  },
  {
   "cell_type": "markdown",
   "metadata": {
    "colab_type": "text",
    "id": "TSMHiRWRf0w_"
   },
   "source": [
    "#### **Q13. Get a column with the confirmed cases in proportion to 1M of the population.**"
   ]
  },
  {
   "cell_type": "code",
   "execution_count": 26,
   "metadata": {
    "colab": {
     "base_uri": "https://localhost:8080/",
     "height": 204
    },
    "colab_type": "code",
    "executionInfo": {
     "elapsed": 787,
     "status": "ok",
     "timestamp": 1586873152255,
     "user": {
      "displayName": "Nuno Reis",
      "photoUrl": "",
      "userId": "07361859627404914753"
     },
     "user_tz": -60
    },
    "id": "ZXnuKYjhPYZi",
    "outputId": "b7145c8b-a54b-49c7-96a2-1691f123dbb5"
   },
   "outputs": [
    {
     "data": {
      "text/html": [
       "<div>\n",
       "<style scoped>\n",
       "    .dataframe tbody tr th:only-of-type {\n",
       "        vertical-align: middle;\n",
       "    }\n",
       "\n",
       "    .dataframe tbody tr th {\n",
       "        vertical-align: top;\n",
       "    }\n",
       "\n",
       "    .dataframe thead th {\n",
       "        text-align: right;\n",
       "    }\n",
       "</style>\n",
       "<table border=\"1\" class=\"dataframe\">\n",
       "  <thead>\n",
       "    <tr style=\"text-align: right;\">\n",
       "      <th></th>\n",
       "      <th>country</th>\n",
       "      <th>date</th>\n",
       "      <th>confirmed</th>\n",
       "      <th>deaths</th>\n",
       "      <th>recovered</th>\n",
       "      <th>active</th>\n",
       "      <th>confirmed_pop</th>\n",
       "    </tr>\n",
       "  </thead>\n",
       "  <tbody>\n",
       "    <tr>\n",
       "      <td>4625</td>\n",
       "      <td>Germany</td>\n",
       "      <td>2020-01-27</td>\n",
       "      <td>1</td>\n",
       "      <td>0</td>\n",
       "      <td>0</td>\n",
       "      <td>1</td>\n",
       "      <td>0.011935</td>\n",
       "    </tr>\n",
       "    <tr>\n",
       "      <td>4626</td>\n",
       "      <td>Germany</td>\n",
       "      <td>2020-01-28</td>\n",
       "      <td>4</td>\n",
       "      <td>0</td>\n",
       "      <td>0</td>\n",
       "      <td>4</td>\n",
       "      <td>0.047742</td>\n",
       "    </tr>\n",
       "    <tr>\n",
       "      <td>4627</td>\n",
       "      <td>Germany</td>\n",
       "      <td>2020-01-29</td>\n",
       "      <td>4</td>\n",
       "      <td>0</td>\n",
       "      <td>0</td>\n",
       "      <td>4</td>\n",
       "      <td>0.047742</td>\n",
       "    </tr>\n",
       "    <tr>\n",
       "      <td>4628</td>\n",
       "      <td>Germany</td>\n",
       "      <td>2020-01-30</td>\n",
       "      <td>4</td>\n",
       "      <td>0</td>\n",
       "      <td>0</td>\n",
       "      <td>4</td>\n",
       "      <td>0.047742</td>\n",
       "    </tr>\n",
       "    <tr>\n",
       "      <td>4629</td>\n",
       "      <td>Germany</td>\n",
       "      <td>2020-01-31</td>\n",
       "      <td>5</td>\n",
       "      <td>0</td>\n",
       "      <td>0</td>\n",
       "      <td>5</td>\n",
       "      <td>0.059677</td>\n",
       "    </tr>\n",
       "  </tbody>\n",
       "</table>\n",
       "</div>"
      ],
      "text/plain": [
       "      country       date  confirmed  deaths  recovered  active  confirmed_pop\n",
       "4625  Germany 2020-01-27          1       0          0       1       0.011935\n",
       "4626  Germany 2020-01-28          4       0          0       4       0.047742\n",
       "4627  Germany 2020-01-29          4       0          0       4       0.047742\n",
       "4628  Germany 2020-01-30          4       0          0       4       0.047742\n",
       "4629  Germany 2020-01-31          5       0          0       5       0.059677"
      ]
     },
     "execution_count": 26,
     "metadata": {},
     "output_type": "execute_result"
    }
   ],
   "source": [
    "# Code here:\n",
    "my_country_df['confirmed_pop'] = ((my_country_df['confirmed'] / my_country_population) * 1000000)\n",
    "my_country_df.head()"
   ]
  },
  {
   "cell_type": "markdown",
   "metadata": {
    "colab_type": "text",
    "id": "apVqiLP0SZ4z"
   },
   "source": [
    "#### **Q14. Get a column that register the number of days since the first case was registered per country.**"
   ]
  },
  {
   "cell_type": "code",
   "execution_count": 27,
   "metadata": {
    "colab": {
     "base_uri": "https://localhost:8080/",
     "height": 204
    },
    "colab_type": "code",
    "executionInfo": {
     "elapsed": 724,
     "status": "ok",
     "timestamp": 1586873156487,
     "user": {
      "displayName": "Nuno Reis",
      "photoUrl": "",
      "userId": "07361859627404914753"
     },
     "user_tz": -60
    },
    "id": "wm2ywJOgS9li",
    "outputId": "f434e461-dac1-4a25-d7d1-46f948fed8d7"
   },
   "outputs": [
    {
     "data": {
      "text/html": [
       "<div>\n",
       "<style scoped>\n",
       "    .dataframe tbody tr th:only-of-type {\n",
       "        vertical-align: middle;\n",
       "    }\n",
       "\n",
       "    .dataframe tbody tr th {\n",
       "        vertical-align: top;\n",
       "    }\n",
       "\n",
       "    .dataframe thead th {\n",
       "        text-align: right;\n",
       "    }\n",
       "</style>\n",
       "<table border=\"1\" class=\"dataframe\">\n",
       "  <thead>\n",
       "    <tr style=\"text-align: right;\">\n",
       "      <th></th>\n",
       "      <th>country</th>\n",
       "      <th>date</th>\n",
       "      <th>confirmed</th>\n",
       "      <th>deaths</th>\n",
       "      <th>recovered</th>\n",
       "      <th>active</th>\n",
       "      <th>confirmed_pop</th>\n",
       "      <th>days</th>\n",
       "    </tr>\n",
       "  </thead>\n",
       "  <tbody>\n",
       "    <tr>\n",
       "      <td>4625</td>\n",
       "      <td>Germany</td>\n",
       "      <td>2020-01-27</td>\n",
       "      <td>1</td>\n",
       "      <td>0</td>\n",
       "      <td>0</td>\n",
       "      <td>1</td>\n",
       "      <td>0.011935</td>\n",
       "      <td>0</td>\n",
       "    </tr>\n",
       "    <tr>\n",
       "      <td>4626</td>\n",
       "      <td>Germany</td>\n",
       "      <td>2020-01-28</td>\n",
       "      <td>4</td>\n",
       "      <td>0</td>\n",
       "      <td>0</td>\n",
       "      <td>4</td>\n",
       "      <td>0.047742</td>\n",
       "      <td>1</td>\n",
       "    </tr>\n",
       "    <tr>\n",
       "      <td>4627</td>\n",
       "      <td>Germany</td>\n",
       "      <td>2020-01-29</td>\n",
       "      <td>4</td>\n",
       "      <td>0</td>\n",
       "      <td>0</td>\n",
       "      <td>4</td>\n",
       "      <td>0.047742</td>\n",
       "      <td>2</td>\n",
       "    </tr>\n",
       "    <tr>\n",
       "      <td>4628</td>\n",
       "      <td>Germany</td>\n",
       "      <td>2020-01-30</td>\n",
       "      <td>4</td>\n",
       "      <td>0</td>\n",
       "      <td>0</td>\n",
       "      <td>4</td>\n",
       "      <td>0.047742</td>\n",
       "      <td>3</td>\n",
       "    </tr>\n",
       "    <tr>\n",
       "      <td>4629</td>\n",
       "      <td>Germany</td>\n",
       "      <td>2020-01-31</td>\n",
       "      <td>5</td>\n",
       "      <td>0</td>\n",
       "      <td>0</td>\n",
       "      <td>5</td>\n",
       "      <td>0.059677</td>\n",
       "      <td>4</td>\n",
       "    </tr>\n",
       "  </tbody>\n",
       "</table>\n",
       "</div>"
      ],
      "text/plain": [
       "      country       date  confirmed  deaths  recovered  active  confirmed_pop  \\\n",
       "4625  Germany 2020-01-27          1       0          0       1       0.011935   \n",
       "4626  Germany 2020-01-28          4       0          0       4       0.047742   \n",
       "4627  Germany 2020-01-29          4       0          0       4       0.047742   \n",
       "4628  Germany 2020-01-30          4       0          0       4       0.047742   \n",
       "4629  Germany 2020-01-31          5       0          0       5       0.059677   \n",
       "\n",
       "      days  \n",
       "4625     0  \n",
       "4626     1  \n",
       "4627     2  \n",
       "4628     3  \n",
       "4629     4  "
      ]
     },
     "execution_count": 27,
     "metadata": {},
     "output_type": "execute_result"
    }
   ],
   "source": [
    "# Code here:\n",
    "my_country_df['days'] = (my_country_df.date - my_country_df.date.min()).dt.days\n",
    "my_country_df.head()"
   ]
  },
  {
   "cell_type": "markdown",
   "metadata": {
    "colab_type": "text",
    "id": "Wzj3yb4cuY8H"
   },
   "source": [
    "![showtime](https://media.giphy.com/media/fxqt51CAMGITJlxcRI/giphy.gif)\n",
    "\n",
    "***IT'S SHOOOOOOW TIME***\n",
    "\n",
    "#### **Q15. Plot the cruve with evolution of confirmed cases per 1M of population since the 1st case for your country**"
   ]
  },
  {
   "cell_type": "code",
   "execution_count": 28,
   "metadata": {
    "colab": {
     "base_uri": "https://localhost:8080/",
     "height": 295
    },
    "colab_type": "code",
    "executionInfo": {
     "elapsed": 765,
     "status": "ok",
     "timestamp": 1586873167810,
     "user": {
      "displayName": "Nuno Reis",
      "photoUrl": "",
      "userId": "07361859627404914753"
     },
     "user_tz": -60
    },
    "id": "rVyzxnyZuk2l",
    "outputId": "88a6e1cd-62bb-4903-b65b-e832b238a70a"
   },
   "outputs": [
    {
     "data": {
      "image/png": "[encoded data removed]",
      "text/plain": [
       "<Figure size 432x288 with 1 Axes>"
      ]
     },
     "metadata": {
      "needs_background": "light"
     },
     "output_type": "display_data"
    }
   ],
   "source": [
    "# Code here:\n",
    "plt.plot(my_country_df.days, my_country_df.confirmed_pop)\n",
    "\n",
    "plt.grid()\n",
    "plt.xlabel('Number of days since the first case')\n",
    "plt.ylabel('Confirmed cases per 1M of population')\n",
    "plt.title('Evolution of confirmed cases per 1M of population since the 1st case')\n",
    "plt.show()"
   ]
  },
  {
   "cell_type": "markdown",
   "metadata": {
    "colab_type": "text",
    "id": "v-7V5IaHcGa1"
   },
   "source": [
    "#### **Q16. How does your country compares in terms of confirmed cases to others?**\n",
    "\n",
    "Just run the code below and analyze the chart. Compare your country with others."
   ]
  },
  {
   "cell_type": "code",
   "execution_count": 30,
   "metadata": {
    "colab": {
     "base_uri": "https://localhost:8080/",
     "height": 621
    },
    "colab_type": "code",
    "executionInfo": {
     "elapsed": 1159,
     "status": "ok",
     "timestamp": 1586873236784,
     "user": {
      "displayName": "Nuno Reis",
      "photoUrl": "",
      "userId": "07361859627404914753"
     },
     "user_tz": -60
    },
    "id": "ijil4ICsabgz",
    "outputId": "4a2705aa-7b02-4abe-93bf-74eb47fccfb9"
   },
   "outputs": [
    {
     "data": {
      "image/png": "[encoded data removed]",
      "text/plain": [
       "<Figure size 720x720 with 1 Axes>"
      ]
     },
     "metadata": {
      "needs_background": "light"
     },
     "output_type": "display_data"
    }
   ],
   "source": [
    "# Run this cell:\n",
    "import pandas as pd\n",
    "from matplotlib import pyplot as plt\n",
    "%matplotlib inline\n",
    "\n",
    "population = {'US': 331002651, 'Spain': 46754778, 'Italy': 60461826, 'Portugal': 10196709, 'China': 1439323776,\n",
    "              'United Kingdom': 67886011, 'Germany': 83783942, 'France': 65273511, 'Norway': 5421241,\n",
    "              'Iran': 83992949, 'Belgium': 11589623, 'Netherlands': 17134872}\n",
    "\n",
    "df_thorly = pd.read_csv('./covid19.csv')\n",
    "df_thorly['Date (yyyy/mm/dd)'] = pd.to_datetime(df_thorly['Date (yyyy/mm/dd)'])\n",
    "plt.figure(figsize=(10,10))\n",
    "\n",
    "for country in population:\n",
    "  country_df = df_thorly[df_thorly['Country/Region'] == country]\n",
    "  country_df = country_df[country_df['Confirmed cases'] > 0]\n",
    "  country_df['confirmed_pop'] = ((country_df['Confirmed cases'] / population[country]) * 1000000)\n",
    "  country_df['days'] = (country_df['Date (yyyy/mm/dd)'] - country_df['Date (yyyy/mm/dd)'].min()).dt.days\n",
    "\n",
    "  plt.plot(country_df.days, country_df.confirmed_pop, label = country)\n",
    "\n",
    "plt.legend()\n",
    "plt.grid()\n",
    "plt.xlabel('Number of days since the first case')\n",
    "plt.ylabel('Confirmed cases per 1M of population')\n",
    "plt.title('Evolution of confirmed cases per 1M of population since the 1st case')\n",
    "plt.show()"
   ]
  },
  {
   "cell_type": "markdown",
   "metadata": {
    "colab_type": "text",
    "id": "tTLofetbmcW_"
   },
   "source": [
    "![](https://media.giphy.com/media/rbaC8w0QY1vGw/giphy.gif)\n",
    "\n",
    "##### **POLYGRAPH TIME!!!**\n",
    "\n",
    "> ***BREAKING NEWS:***\n",
    "> \n",
    "> *Norway is one of the fastest countries to reach more cases by 1M population since the first case confirmation in the country!*\n",
    "\n",
    "\n",
    "##### **Q16.1. Is this a fake news?**\n",
    "\n",
    "*(There is no need to code in this question... Analyze the chart above)*"
   ]
  },
  {
   "cell_type": "markdown",
   "metadata": {
    "colab_type": "text",
    "id": "4MRHEfmbExGa"
   },
   "source": [
    "**WOOOOOW - A LEGIT NEWS! We like that!**"
   ]
  },
  {
   "cell_type": "markdown",
   "metadata": {
    "colab_type": "text",
    "id": "4SkTJNq_q2mJ"
   },
   "source": [
    "## Unit 4. Models train and evaluation\n",
    "Here we will deal with models definition and we should be able to make predictions. There are a lot of models that can be used but we prefer to keep things simple for now... Use the models we explained in the learning unit."
   ]
  },
  {
   "cell_type": "markdown",
   "metadata": {
    "colab_type": "text",
    "id": "MpGQIG5qnb2E"
   },
   "source": [
    "![prediction](https://media.giphy.com/media/3o72F5tx9CEhSDxonC/giphy.gif)\n",
    "\n",
    "#### Time to **fortune telling**!!!"
   ]
  },
  {
   "cell_type": "code",
   "execution_count": 33,
   "metadata": {
    "colab": {
     "base_uri": "https://localhost:8080/",
     "height": 641
    },
    "colab_type": "code",
    "executionInfo": {
     "elapsed": 1112,
     "status": "ok",
     "timestamp": 1586873978416,
     "user": {
      "displayName": "Nuno Reis",
      "photoUrl": "",
      "userId": "07361859627404914753"
     },
     "user_tz": -60
    },
    "id": "bMM2iPAYnofm",
    "outputId": "b9293661-a553-4061-fc4f-f35d189a5638"
   },
   "outputs": [
    {
     "name": "stdout",
     "output_type": "stream",
     "text": [
      "this is model dataframe Index(['index', 0], dtype='object')\n",
      "this is model dataframe Index(['confirmed', 'days'], dtype='object')\n"
     ]
    },
    {
     "data": {
      "image/png": "[encoded data removed]",
      "text/plain": [
       "<Figure size 432x288 with 1 Axes>"
      ]
     },
     "metadata": {
      "needs_background": "light"
     },
     "output_type": "display_data"
    },
    {
     "data": {
      "text/plain": [
       "None"
      ]
     },
     "metadata": {},
     "output_type": "display_data"
    },
    {
     "data": {
      "image/png": "[encoded data removed]",
      "text/plain": [
       "<Figure size 432x288 with 1 Axes>"
      ]
     },
     "metadata": {
      "needs_background": "light"
     },
     "output_type": "display_data"
    },
    {
     "data": {
      "text/plain": [
       "None"
      ]
     },
     "metadata": {},
     "output_type": "display_data"
    }
   ],
   "source": [
    "# Code here:\n",
    "\n",
    "# import your model\n",
    "from hackathome import Logistic, Gompertz, Exponential\n",
    "\n",
    "# data about predictions\n",
    "my_country = \"Germany\"\n",
    "nr_days = 10\n",
    "\n",
    "# instantiate your model\n",
    "# Mentors: HERE YOU CAN CHOOSE THE MODEL - Exponential, Logistic or Gompertz.\n",
    "# We added Logistic and Gompertz for this 2nd edition\n",
    "model = Gompertz()\n",
    "\n",
    "# select your country and after which number of confirmed cases\n",
    "## ATTENTION: changed the after confirmation cases parameter to 100!!!\n",
    "country = model.select_country(df, my_country, after_confirmation_cases=200)\n",
    "## NOTE: If the results seems strange you might be using a value of after_confirmation_cases too high or too low\n",
    "\n",
    "# fit your model\n",
    "model.fit(country.days, country.confirmed)\n",
    "\n",
    "# visualize how good it is\n",
    "display(model.visualize_curve(country, predictions=False))\n",
    "\n",
    "# predict for the next days\n",
    "pred = model.predict(nr_days)\n",
    "\n",
    "# visualize your predictions\n",
    "display(model.visualize_curve(country, predictions=True))"
   ]
  },
  {
   "cell_type": "code",
   "execution_count": null,
   "metadata": {
    "colab": {},
    "colab_type": "code",
    "id": "bHy8FPUDyqqe"
   },
   "outputs": [],
   "source": [
    "pred[\"country\"] = my_country\n",
    "predictions = pred[-nr_days:]\n",
    "predictions.to_csv(\"./predictions_{}_10days.csv\".format(my_country), index=False)"
   ]
  },
  {
   "cell_type": "markdown",
   "metadata": {
    "colab_type": "text",
    "id": "gFXhVpXWG99l"
   },
   "source": [
    "**Now you can get your file by opening the left pane and download it by click on mouse left button. After that, upload the file to the leaderboard using the instructions in the platform!**"
   ]
  },
  {
   "cell_type": "markdown",
   "metadata": {
    "colab_type": "text",
    "id": "bvjuHP2Ugozg"
   },
   "source": [
    "## Finish challenge\n",
    "\n",
    "![](https://media.giphy.com/media/lD76yTC5zxZPG/giphy.gif)\n",
    "\n"
   ]
  },
  {
   "cell_type": "code",
   "execution_count": null,
   "metadata": {},
   "outputs": [],
   "source": []
  }
 ],
 "metadata": {
  "colab": {
   "collapsed_sections": [],
   "name": "mentors_notebook.ipynb",
   "provenance": [],
   "toc_visible": true
  },
  "kernelspec": {
   "display_name": "Python 3",
   "language": "python",
   "name": "python3"
  },
  "language_info": {
   "codemirror_mode": {
    "name": "ipython",
    "version": 3
   },
   "file_extension": ".py",
   "mimetype": "text/x-python",
   "name": "python",
   "nbconvert_exporter": "python",
   "pygments_lexer": "ipython3",
   "version": "3.7.8"
  }
 },
 "nbformat": 4,
 "nbformat_minor": 4
}
